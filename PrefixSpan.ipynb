{
 "cells": [
  {
   "cell_type": "code",
   "execution_count": 1,
   "metadata": {},
   "outputs": [
    {
     "name": "stderr",
     "output_type": "stream",
     "text": [
      "Matplotlib is building the font cache; this may take a moment.\n"
     ]
    }
   ],
   "source": [
    "import os\n",
    "import uuid\n",
    "import time \n",
    "import datetime\n",
    "import pandas as pd\n",
    "import numpy as np\n",
    "from spmf import Spmf\n",
    "import matplotlib.pyplot as plt\n",
    "import plotly.express as px\n",
    "import plotly.graph_objects as go\n",
    "import numpy as np\n",
    "import random\n",
    "from graphviz import Digraph\n",
    "import networkx as nx\n",
    "from igraph import Graph, EdgeSeq\n",
    "from collections import defaultdict\n",
    "from networkx.drawing.nx_agraph import graphviz_layout"
   ]
  },
  {
   "cell_type": "markdown",
   "metadata": {},
   "source": [
    "# Pré-processamento"
   ]
  },
  {
   "cell_type": "code",
   "execution_count": null,
   "metadata": {},
   "outputs": [],
   "source": [
    "dir = r'caminho para o local dos dados'\n",
    "def list_files(dir):\n",
    "    r = []\n",
    "    for root, dirs, files in os.walk(dir):\n",
    "        for name in files:\n",
    "            filepath = root + os.sep + name\n",
    "            if filepath.endswith(\".csv\") and \"turma a ser escolhido, por exemplo: 2023-01-Programacao\" in filepath:\n",
    "                r.append(os.path.join(root, name))\n",
    "            #end if\n",
    "        #end for\n",
    "    #end for\n",
    "    return sorted(r)\n",
    "#end list_files"
   ]
  },
  {
   "cell_type": "code",
   "execution_count": null,
   "metadata": {},
   "outputs": [],
   "source": [
    "df_list = list_files(dir)"
   ]
  },
  {
   "cell_type": "code",
   "execution_count": null,
   "metadata": {},
   "outputs": [],
   "source": [
    "df_list"
   ]
  },
  {
   "cell_type": "code",
   "execution_count": null,
   "metadata": {},
   "outputs": [],
   "source": [
    "df = pd.read_csv(df_list[1], sep=',')"
   ]
  },
  {
   "cell_type": "code",
   "execution_count": null,
   "metadata": {},
   "outputs": [],
   "source": [
    "df.head()"
   ]
  },
  {
   "cell_type": "code",
   "execution_count": null,
   "metadata": {},
   "outputs": [],
   "source": [
    "def modulos_id(modulos):\n",
    "    lista = list(modulos)\n",
    "\n",
    "    for i in range(len(lista)):\n",
    "        phrase = lista[i]\n",
    "        if phrase.find(\"VPL\") == -1:\n",
    "            \n",
    "            id_number = phrase.count('id')\n",
    "            final_number = phrase.count(\"'\")\n",
    "            \n",
    "            part1 = phrase.split(\"id '\", id_number)\n",
    "            part2 = phrase.split(\"'\", final_number)\n",
    "            begin = len(phrase) - len(part1[-1])\n",
    "            final = len(phrase) - len(part2[-1]) - len(\"'\")\n",
    "            lista[i] = phrase[begin:final]\n",
    "        else:\n",
    "            id_number = phrase.count('id')\n",
    "            final_number = phrase.count(\" \")\n",
    "            \n",
    "            part1 = phrase.split(\"id \", id_number)\n",
    "\n",
    "            lista[i] = part1[-1]\n",
    "\n",
    "    return lista"
   ]
  },
  {
   "cell_type": "code",
   "execution_count": null,
   "metadata": {},
   "outputs": [],
   "source": [
    "def process_logs(df_name, weeks_to_keep, truncate_to_week):\n",
    "    df = pd.read_csv(df_name, sep=\",\")\n",
    "    df[\"date\"] = pd.to_datetime(df['Hora'].str.zfill(16), dayfirst=True) #format='%d/%m/%y %H:%M')\n",
    "    #df[\"date\"] = df['date'] - pd.to_timedelta(df['date'].dt.dayofweek, unit='d') if truncate_to_week else df[\"date\"]\n",
    "    #eliminate hours, minutes and seconds\n",
    "    df[\"date\"] = df[\"date\"].dt.date\n",
    "\n",
    "    df[\"key\"] = df[\"Nome completo\"]\n",
    "    #print(\"Unique users found: {}\".format(df.key.nunique()))\n",
    "\n",
    "    df[\"date\"] = pd.to_datetime(df['date'])\n",
    "    #get first date and add the offset\n",
    "    thre = df.date.min() + datetime.timedelta(weeks = weeks_to_keep)\n",
    "    #filter out weeks out of range\n",
    "    df = df[(df['date'] < thre)]\n",
    "\n",
    "    df['Inicio curso'] = df.date.min()\n",
    "    df['Semana'] = ( (df.date - df.date.min()).dt.days // 7 ) + 1\n",
    "\n",
    "    df['id do modulo'] = df['Descrição']\n",
    "\n",
    "\n",
    "    df = df[[\"date\", \"key\", \"Contexto do Evento\", \"Nome do evento\", \"Semana\", \"id do modulo\"]]\n",
    "\n",
    "    return df\n",
    "#end process_logs"
   ]
  },
  {
   "cell_type": "code",
   "execution_count": null,
   "metadata": {},
   "outputs": [],
   "source": [
    "def process_grades(df_name):\n",
    "    df = pd.read_csv(df_name, sep=\",\")\n",
    "    \n",
    "    #df[\"Matrícula\"] =df[\"Matrícula\"].astype(int)\n",
    "    df.info()\n",
    "    df[\"key\"] = df[\"Nome\"] + \" \" + df[\"Sobrenome\"].astype(str)\n",
    "    df[\"target\"] = df[\"Total do curso (Real)\"].replace(\"-\", 0.0).astype(float)\n",
    "    df[\"target_cat\"] = np.where(df['target'] >= 6.0 , 'Aprovado', 'Reprovado')\n",
    "    return df[[\"key\", \"target\", \"target_cat\"]]\n",
    "#end process_grades"
   ]
  },
  {
   "cell_type": "code",
   "execution_count": null,
   "metadata": {},
   "outputs": [],
   "source": [
    "def process_dfs(df_list, weeks_to_keep=16, truncate_to_week=False):\n",
    "    to_concat = []\n",
    "    for i in range(0, len(df_list), 2):\n",
    "        log_first = True if \"logs\" in df_list[i] else False\n",
    "        turma = df_list[i].split(os.sep)[1]\n",
    "        if log_first:\n",
    "            df_logs = process_logs(df_list[i], weeks_to_keep, truncate_to_week)\n",
    "            df_grades = process_grades(df_list[i+1])\n",
    "        else:\n",
    "            df_grades = process_grades(df_list[i])\n",
    "            df_logs = process_logs(df_list[i+1], weeks_to_keep, truncate_to_week)\n",
    "        #end if\n",
    "        data_cols = df_logs.columns.tolist()\n",
    "        data_cols.remove(\"key\")\n",
    "        \n",
    "        print(\"Logs size = {}\".format(len(df_logs)))\n",
    "        print(\"Grades size = {}\".format(len(df_grades)))\n",
    "        #print('Logs INFO')\n",
    "\n",
    "        #print(df_logs['key'].head(49))\n",
    "            \n",
    "        print('Grades INFO')\n",
    "        print(df_grades['key'].head(16))\n",
    "        final_df = df_logs.merge(df_grades, on=\"key\", how=\"inner\")\n",
    "        print('DF_Final INFO')\n",
    "        print(final_df.head())\n",
    "        final_df[\"group\"] = turma\n",
    "\n",
    "        final_df.loc[:, \"id_group\"] = 1\n",
    "        final_df.loc[:, \"id_subject\"] = 1\n",
    "\n",
    "        #anonymize groups and subjects\n",
    "        final_df.loc[:, \"id_group\"] = final_df.groupby(\"group\").id_group.transform(lambda g: str(uuid.uuid4()))\n",
    "        final_df.loc[:, \"id_subject\"] = final_df.groupby(\"key\").id_subject.transform(lambda g: str(uuid.uuid4()))\n",
    "\n",
    "        to_keep = [\"id_group\", \"id_subject\",\"key\"] + data_cols + [\"target\", \"target_cat\"]\n",
    "        to_concat.append( final_df[to_keep] )\n",
    "    #end for\n",
    "    return pd.concat(to_concat)\n",
    "#end anonymize_dfs"
   ]
  },
  {
   "cell_type": "code",
   "execution_count": null,
   "metadata": {},
   "outputs": [],
   "source": [
    "df_final = process_dfs(df_list, weeks_to_keep=16)"
   ]
  },
  {
   "cell_type": "markdown",
   "metadata": {},
   "source": [
    "# Remoção das atividades"
   ]
  },
  {
   "cell_type": "code",
   "execution_count": null,
   "metadata": {},
   "outputs": [],
   "source": [
    "modulos_para_remover = ['Laboratório Virtual de Programação', 'Curso', 'Tarefa', 'Exercícios', 'Questionário', 'Enquete']\n",
    "df_final.drop(df_final[df_final['Contexto do Evento'].str.contains('|'.join(modulos_para_remover))].index, inplace=True)"
   ]
  },
  {
   "cell_type": "code",
   "execution_count": null,
   "metadata": {},
   "outputs": [],
   "source": [
    "df_final.head()"
   ]
  },
  {
   "cell_type": "code",
   "execution_count": null,
   "metadata": {},
   "outputs": [],
   "source": [
    "df_final.insert(8, \"Modulo\", 0, True)\n",
    "df_final.reset_index(drop=True, inplace=True)"
   ]
  },
  {
   "cell_type": "code",
   "execution_count": null,
   "metadata": {},
   "outputs": [],
   "source": [
    "df_final.head()"
   ]
  },
  {
   "cell_type": "markdown",
   "metadata": {},
   "source": [
    "#### Dicionário de Módulos"
   ]
  },
  {
   "cell_type": "code",
   "execution_count": null,
   "metadata": {},
   "outputs": [],
   "source": [
    "Modulos_acessados = df_final['Contexto do Evento'].unique()\n",
    "Modulos_acessados"
   ]
  },
  {
   "cell_type": "code",
   "execution_count": null,
   "metadata": {},
   "outputs": [],
   "source": [
    "dicionario_modulos = {}\n",
    "for i in range(0, len(Modulos_acessados)):\n",
    "    dicionario_modulos[i] = Modulos_acessados[i]\n",
    "\n",
    "print(dicionario_modulos)"
   ]
  },
  {
   "cell_type": "code",
   "execution_count": null,
   "metadata": {},
   "outputs": [],
   "source": [
    "for index, value in enumerate(df_final['Contexto do Evento']):\n",
    "    for key, modulo in dicionario_modulos.items():\n",
    "        if value == modulo:\n",
    "            df_final.loc[index, 'Modulo'] = key\n",
    "df_final['Modulo'] =df_final['Modulo'].astype(int)\n",
    "df_final.head()"
   ]
  },
  {
   "cell_type": "code",
   "execution_count": null,
   "metadata": {},
   "outputs": [],
   "source": [
    "df_final.info()"
   ]
  },
  {
   "cell_type": "markdown",
   "metadata": {},
   "source": [
    "# Verificar Ocorrência das atividades"
   ]
  },
  {
   "cell_type": "code",
   "execution_count": null,
   "metadata": {},
   "outputs": [],
   "source": [
    "Qtn_acessos = df_final.groupby(['Contexto do Evento'], as_index=False).agg({\"key\": 'count'}).sort_values(by='key', ascending=False)\n",
    "\n",
    "fig = go.Figure(data = [go.Table(\n",
    "    columnwidth = [400, 100],\n",
    "    header=dict(values=['Ação', 'Quantidade de Acessos'],\n",
    "                line_color='darkslategray',\n",
    "                align=['left', 'center'],\n",
    "                fill_color ='royalblue',\n",
    "                font=dict(color='white', size=12),\n",
    "                height=40),\n",
    "                cells=dict(values=[Qtn_acessos['Contexto do Evento'], Qtn_acessos['key']],\n",
    "                line_color='darkslategray',\n",
    "                fill=dict(color=['paleturquoise', 'lightgray']),\n",
    "                align=['left', 'center'],\n",
    "                font_size = 12,\n",
    "                height = 30\n",
    "                ))])\n",
    "\n",
    "fig.show()"
   ]
  },
  {
   "cell_type": "markdown",
   "metadata": {},
   "source": [
    "# Pré - processamento para aplicar o algoritmo"
   ]
  },
  {
   "cell_type": "code",
   "execution_count": null,
   "metadata": {},
   "outputs": [],
   "source": [
    "# Pré - processamento para aplicar o algoritmo\n",
    "colunasSelecionadas = ['key', 'date', 'Modulo', 'target_cat']\n",
    "eventos = df_final.filter(items=colunasSelecionadas)\n",
    "key_to_number = {key: number for number, key in enumerate(eventos['key'].unique())}\n",
    "eventos['key'] = eventos['key'].map(key_to_number)\n",
    "num_students = len(eventos['key'].unique())\n",
    "num_students"
   ]
  },
  {
   "cell_type": "code",
   "execution_count": null,
   "metadata": {},
   "outputs": [],
   "source": [
    "eventos.head()"
   ]
  },
  {
   "cell_type": "code",
   "execution_count": null,
   "metadata": {},
   "outputs": [],
   "source": [
    "eventos['date'] = pd.to_datetime(eventos['date'])\n",
    "eventos = eventos.sort_values(by='date')\n",
    "eventos['gap'] = eventos.groupby('key')['date'].diff()\n",
    "restricao = pd.Timedelta(minutes=30)\n",
    "eventos['inicio'] = (eventos['gap'] > restricao) | (eventos['gap'].isnull())\n",
    "eventos['sequencia'] = eventos['inicio'].cumsum()\n",
    "eventos = eventos.drop(['gap', 'inicio'], axis = 1)\n",
    "eventos = eventos.reset_index(drop=True)\n",
    "eventos.head(50)"
   ]
  },
  {
   "cell_type": "markdown",
   "metadata": {},
   "source": [
    "#### Análise dos Dados"
   ]
  },
  {
   "cell_type": "code",
   "execution_count": null,
   "metadata": {},
   "outputs": [],
   "source": [
    "df_final = df_final.dropna()\n",
    "\n",
    "df_final['evento_simplificado'] = ''\n",
    "df_final.loc[df_final.evento_simplificado == '', 'evento_simplificado'] = df_final['Contexto do Evento'].str.split().str.get(0).apply(lambda x: x[:-1] if x.endswith(\":\") else x)\n",
    "\n",
    "df_final.head()"
   ]
  },
  {
   "cell_type": "code",
   "execution_count": null,
   "metadata": {},
   "outputs": [],
   "source": [
    "df_final.info()"
   ]
  },
  {
   "cell_type": "code",
   "execution_count": null,
   "metadata": {},
   "outputs": [],
   "source": [
    "count_df = df_final.groupby(['evento_simplificado', 'target_cat']).size().unstack(fill_value=0)\n",
    "\n",
    "fig = go.Figure()\n",
    "\n",
    "for modulos_count in count_df.columns:\n",
    "    fig.add_trace(go.Bar(x=count_df.index, y=count_df[modulos_count ], name=modulos_count))\n",
    "\n",
    "fig.update_layout(title='Proporção de Clique no Ambiente de Ensino Alunos Aprovados e Reprovados',\n",
    "                  xaxis_title='Módulos',\n",
    "                  yaxis_title='Cliques',\n",
    "                  barmode='group')\n",
    "fig.show()"
   ]
  },
  {
   "cell_type": "code",
   "execution_count": null,
   "metadata": {},
   "outputs": [],
   "source": [
    "count_df"
   ]
  },
  {
   "cell_type": "code",
   "execution_count": null,
   "metadata": {},
   "outputs": [],
   "source": [
    "eventos.info()"
   ]
  },
  {
   "cell_type": "code",
   "execution_count": null,
   "metadata": {},
   "outputs": [],
   "source": [
    "max = eventos['sequencia'].max()\n",
    "aux = 1\n",
    "lista_elementos = []\n",
    "sequencias_eventos = []\n",
    "old_target = ''\n",
    "old_key = 0\n",
    "for index, row in eventos.iterrows():\n",
    "    if(int(row['sequencia']) == aux):\n",
    "        lista_elementos.append(row['Modulo'])\n",
    "        old_target = row['target_cat']\n",
    "        old_key = row['key']\n",
    "    if(row['sequencia'] != aux):\n",
    "        lista_elementos.append(old_key)\n",
    "        lista_elementos.append(old_target)\n",
    "        aux += 1\n",
    "        sequencias_eventos.append(lista_elementos)\n",
    "        lista_elementos = []\n",
    "        lista_elementos.append(row['Modulo'])\n",
    "    \n",
    "sequencias_eventos"
   ]
  },
  {
   "cell_type": "markdown",
   "metadata": {},
   "source": [
    "#### Separando as sequências"
   ]
  },
  {
   "cell_type": "code",
   "execution_count": null,
   "metadata": {},
   "outputs": [],
   "source": [
    "sequencia_aprovados = [[] for _ in range(num_students)]\n",
    "sequencia_reprovados = [[] for _ in range(num_students)]\n",
    "\n",
    "for sequencia in sequencias_eventos:\n",
    "    if 'Aprovado' in sequencia:                                                                                                                                                                 \n",
    "        del sequencia[-1]\n",
    "        aux = int(sequencia[-1])\n",
    "        del sequencia[-1]\n",
    "        sequencia_aprovados[aux].append(sequencia)\n",
    "\n",
    "    else:\n",
    "        del sequencia[-1]\n",
    "        aux = int(sequencia[-1])\n",
    "        del sequencia[-1]\n",
    "        sequencia_reprovados[aux].append(sequencia)\n",
    "\n",
    "sequencia_aprovados"
   ]
  },
  {
   "cell_type": "code",
   "execution_count": null,
   "metadata": {},
   "outputs": [],
   "source": [
    "def remover_vazios(lista):\n",
    "    vazio = []\n",
    "    for i, j in enumerate(lista):\n",
    "        if not j:\n",
    "            vazio.append(i)\n",
    "    for i in reversed(vazio):\n",
    "        lista.pop(i)\n",
    "\n"
   ]
  },
  {
   "cell_type": "code",
   "execution_count": null,
   "metadata": {},
   "outputs": [],
   "source": [
    "remover_vazios(sequencia_aprovados)\n",
    "len(sequencia_aprovados)"
   ]
  },
  {
   "cell_type": "code",
   "execution_count": null,
   "metadata": {},
   "outputs": [],
   "source": [
    "\n",
    "remover_vazios(sequencia_reprovados)\n",
    "len(sequencia_reprovados)"
   ]
  },
  {
   "cell_type": "code",
   "execution_count": null,
   "metadata": {},
   "outputs": [],
   "source": [
    "sequencia_reprovados"
   ]
  },
  {
   "cell_type": "code",
   "execution_count": null,
   "metadata": {},
   "outputs": [],
   "source": [
    "sequencia_aprovados"
   ]
  },
  {
   "cell_type": "markdown",
   "metadata": {},
   "source": [
    "### Teste Aprovados"
   ]
  },
  {
   "cell_type": "code",
   "execution_count": null,
   "metadata": {},
   "outputs": [],
   "source": [
    "spmf = Spmf(\"PrefixSpan\", input_direct=sequencia_aprovados, output_filename=\"resultadoAprovados.txt\", arguments=[0.4, 5, True])\n",
    "spmf.run()\n",
    "df_aprovados = spmf.to_pandas_dataframe()\n",
    "df_aprovados"
   ]
  },
  {
   "cell_type": "code",
   "execution_count": null,
   "metadata": {},
   "outputs": [],
   "source": [
    "def get_support(df, pattern):\n",
    "    pattern_str = ' '.join(pattern)\n",
    "    match = df[df['pattern'].apply(lambda x: ' '.join(x) == pattern_str)]\n",
    "    if not match.empty:\n",
    "        return match['sup'].values[0]\n",
    "    return 0\n",
    "\n",
    "rules = []\n",
    "for _, row in df_aprovados.iterrows():\n",
    "    pattern = row['pattern']\n",
    "    support_AB = row['sup']\n",
    "    for i in range(1, len(pattern)):\n",
    "        A = pattern[:i]\n",
    "        B = pattern[i:]\n",
    "        support_A = get_support(df_aprovados, A)\n",
    "        support_B = get_support(df_aprovados, B)\n",
    "        \n",
    "        confidence = support_AB / support_A if support_A > 0 else 0\n",
    "        lift = support_AB / (support_A * support_B) if support_A > 0 and support_B > 0 else 0\n",
    "        \n",
    "        rules.append({\n",
    "            'rule': (A, B),\n",
    "            'support': support_AB,\n",
    "            'confidence': confidence,\n",
    "            'lift': lift\n",
    "        })\n",
    "\n",
    "# Step 5: Display the rules with their metrics\n",
    "for rule in rules:\n",
    "    if rule['lift'] > 1:\n",
    "        print(f\"Rule: {rule['rule']}, Support: {rule['support']:.2f}, Confidence: {rule['confidence']:.2f}, Lift: {rule['lift']:.2f}\")"
   ]
  },
  {
   "cell_type": "code",
   "execution_count": null,
   "metadata": {},
   "outputs": [],
   "source": [
    "for rule in rules:    \n",
    "    print(f\"Rule: {rule['rule']}, Support: {rule['support']:.2f}, Confidence: {rule['confidence']:.2f}, Lift: {rule['lift']:.2f}\")"
   ]
  },
  {
   "cell_type": "code",
   "execution_count": null,
   "metadata": {},
   "outputs": [],
   "source": [
    "resultado = r\"/root/SPM2/Prefixspam_Somente_Aulas/2023-01-Programacao/resultadoAprovados.txt\"\n",
    "\n",
    "mapeamento_de_modulos_aprovados = {}\n",
    "legendas = []\n",
    "with open(resultado, 'r') as file:\n",
    "    for linha in file:\n",
    "        if not linha.strip():\n",
    "            continue\n",
    "\n",
    "        split = linha.split(\" \")\n",
    "        primeiro_item_itemset = True\n",
    "        primeiro_item_set = True\n",
    "        item_anterior_do_mesmo_itemset = None\n",
    "\n",
    "        for item in split:\n",
    "            if item == \"-1\":  \n",
    "                pass\n",
    "            elif item == \"-2\" or item.startswith('#'):  \n",
    "                item_anterior_do_mesmo_itemset = None\n",
    "                break\n",
    "            else: \n",
    "                if item_anterior_do_mesmo_itemset is not None:\n",
    "                    mapeamento_de_modulos_aprovados[item_anterior_do_mesmo_itemset] = item\n",
    "                item_anterior_do_mesmo_itemset = item\n",
    "\n",
    "reversed_dict = defaultdict(list)\n",
    "\n",
    "for key, value in mapeamento_de_modulos_aprovados.items():\n",
    "    reversed_dict[value].append(key)\n",
    "\n",
    "print(mapeamento_de_modulos_aprovados)\n",
    "print(reversed_dict)"
   ]
  },
  {
   "cell_type": "code",
   "execution_count": null,
   "metadata": {},
   "outputs": [],
   "source": [
    "mapeamento_de_modulos = arvore_dict = reversed_dict\n",
    "\n",
    "G = nx.DiGraph()\n",
    "\n",
    "for edge_key, edge_value in mapeamento_de_modulos.items():\n",
    "    for edge in edge_value:\n",
    "        G.add_edge(edge_key, edge)\n",
    "\n",
    "pos = graphviz_layout(G, prog='dot')\n",
    "\n",
    "fig = go.Figure()\n",
    "\n",
    "for edge in G.edges():\n",
    "    x0, y0 = pos[edge[0]]\n",
    "    x1, y1 = pos[edge[1]]\n",
    "    radius = 25  \n",
    "    dx = x1 - x0\n",
    "    dy = y1 - y0\n",
    "    length = (dx**2 + dy**2)**0.5\n",
    "    offset = radius / (length + 0.01)  \n",
    "    x_edge = x0 + (dx - offset * dx)\n",
    "    y_edge = y0 + (dy - offset * dy)\n",
    "    \n",
    "    fig.add_trace(go.Scatter(\n",
    "        x=[x0, x_edge, x1],\n",
    "        y=[y0, y_edge, y1],\n",
    "        mode='lines',\n",
    "        line=dict(color='rgb(210,210,210)', width=1),\n",
    "        hoverinfo='none',\n",
    "        showlegend=False  \n",
    "    ))\n",
    "\n",
    "# Add nodes with numbers\n",
    "for node in G.nodes():\n",
    "    x, y = pos[node]\n",
    "    value = node + ': '+ dicionario_modulos[int(node)]\n",
    "    print(value) \n",
    "    fig.add_trace(go.Scatter(\n",
    "        x=[x],\n",
    "        y=[y],\n",
    "        mode='markers+text',  \n",
    "        name=value,\n",
    "        marker=dict(\n",
    "            symbol='circle-dot',\n",
    "            size=25,\n",
    "            color='#6175c1',\n",
    "            line=dict(color='rgb(50,50,50)', width=1)\n",
    "        ),\n",
    "        text=[node],  \n",
    "        hoverinfo='name',\n",
    "        textposition='middle center', \n",
    "        opacity=0.8,\n",
    "        textfont=dict(color='white', size=12)  \n",
    "    ))\n",
    "\n",
    "axis = dict(showline=False, \n",
    "            zeroline=False,\n",
    "            showgrid=False,\n",
    "            showticklabels=False,\n",
    "            )\n",
    "\n",
    "fig.update_layout(title='Sequência de Módulos Acessados por Alunos Aprovados',\n",
    "                font_size=12,\n",
    "                showlegend=True,\n",
    "                xaxis=axis,\n",
    "                yaxis=axis,\n",
    "                margin=dict(l=40, r=40, b=85, t=100),\n",
    "                hovermode='closest',\n",
    "                plot_bgcolor='rgb(248,248,248)',\n",
    "                hoverlabel=dict(\n",
    "                bgcolor=\"white\",\n",
    "                font_size=16,\n",
    "                font_family=\"Arial\",\n",
    "                namelength=-1  )\n",
    "                )\n",
    "\n",
    "\n",
    "fig.update_traces(textposition='middle center')\n",
    "\n",
    "fig.show()\n"
   ]
  },
  {
   "cell_type": "markdown",
   "metadata": {},
   "source": [
    "### Teste Reprovados"
   ]
  },
  {
   "cell_type": "code",
   "execution_count": null,
   "metadata": {},
   "outputs": [],
   "source": [
    "spmf = Spmf(\"PrefixSpan\", input_direct=sequencia_reprovados, output_filename=\"resultadoReprovados.txt\", arguments=[0.4, 5, True])\n",
    "spmf.run()\n",
    "\n",
    "df_reprovados = spmf.to_pandas_dataframe()"
   ]
  },
  {
   "cell_type": "code",
   "execution_count": null,
   "metadata": {},
   "outputs": [],
   "source": [
    "def get_support(df, pattern):\n",
    "    pattern_str = ' '.join(pattern)\n",
    "    match = df[df['pattern'].apply(lambda x: ' '.join(x) == pattern_str)]\n",
    "    if not match.empty:\n",
    "        return match['sup'].values[0]\n",
    "    return 0\n",
    "\n",
    "rules = []\n",
    "for _, row in df_reprovados.iterrows():\n",
    "    pattern = row['pattern']\n",
    "    support_AB = row['sup']\n",
    "    for i in range(1, len(pattern)):\n",
    "        A = pattern[:i]\n",
    "        B = pattern[i:]\n",
    "        support_A = get_support(df_reprovados, A)\n",
    "        support_B = get_support(df_reprovados, B)\n",
    "        \n",
    "        confidence = support_AB / support_A if support_A > 0 else 0\n",
    "        lift = support_AB / (support_A * support_B) if support_A > 0 and support_B > 0 else 0\n",
    "        \n",
    "        rules.append({\n",
    "            'rule': (A, B),\n",
    "            'support': support_AB,\n",
    "            'confidence': confidence,\n",
    "            'lift': lift\n",
    "        })\n",
    "\n",
    "# Step 5: Display the rules with their metrics\n",
    "for rule in rules:\n",
    "    if rule['lift'] > 1:\n",
    "        print(f\"Rule: {rule['rule']}, Support: {rule['support']:.2f}, Confidence: {rule['confidence']:.2f}, Lift: {rule['lift']:.2f}\")"
   ]
  },
  {
   "cell_type": "code",
   "execution_count": null,
   "metadata": {},
   "outputs": [],
   "source": [
    "for rule in rules:\n",
    "    print(f\"Rule: {rule['rule']}, Support: {rule['support']:.2f}, Lift: {rule['lift']:.2f}\")"
   ]
  },
  {
   "cell_type": "code",
   "execution_count": null,
   "metadata": {},
   "outputs": [],
   "source": [
    "resultado = r\"/root/SPM2/Prefixspam_Somente_Aulas/2023-01-Programacao/resultadoReprovados.txt\"\n",
    "\n",
    "mapeamento_de_modulos_reprovados = {}\n",
    "\n",
    "with open(resultado, 'r') as file:\n",
    "    for linha in file:\n",
    "        if not linha.strip():\n",
    "            continue\n",
    "\n",
    "        split = linha.split(\" \")\n",
    "        primeiro_item_itemset = True\n",
    "        primeiro_item_set = True\n",
    "        item_anterior_do_mesmo_itemset = None\n",
    "\n",
    "        for item in split:\n",
    "            if item == \"-1\":  \n",
    "                pass\n",
    "            elif item == \"-2\" or item.startswith('#'):  \n",
    "                item_anterior_do_mesmo_itemset = None\n",
    "                break\n",
    "            else: \n",
    "                if item_anterior_do_mesmo_itemset is not None:\n",
    "                    mapeamento_de_modulos_reprovados[item_anterior_do_mesmo_itemset] = item\n",
    "                item_anterior_do_mesmo_itemset = item\n",
    "\n",
    "reversed_dict = defaultdict(list)\n",
    "\n",
    "for key, value in mapeamento_de_modulos_reprovados.items():\n",
    "    reversed_dict[value].append(key)\n",
    "\n",
    "print(mapeamento_de_modulos_reprovados)\n",
    "print(reversed_dict)"
   ]
  },
  {
   "cell_type": "code",
   "execution_count": null,
   "metadata": {},
   "outputs": [],
   "source": [
    "mapeamento_de_modulos = arvore_dict = reversed_dict\n",
    "\n",
    "G = nx.DiGraph()\n",
    "\n",
    "for edge_key, edge_value in mapeamento_de_modulos.items():\n",
    "    for edge in edge_value:\n",
    "        G.add_edge(edge_key, edge)\n",
    "\n",
    "pos = graphviz_layout(G, prog='dot')\n",
    "\n",
    "fig = go.Figure()\n",
    "\n",
    "for edge in G.edges():\n",
    "    x0, y0 = pos[edge[0]]\n",
    "    x1, y1 = pos[edge[1]]\n",
    "    radius = 25  \n",
    "    dx = x1 - x0\n",
    "    dy = y1 - y0\n",
    "    length = (dx**2 + dy**2)**0.5\n",
    "    offset = radius / (length + 0.01)  \n",
    "    x_edge = x0 + (dx - offset * dx)\n",
    "    y_edge = y0 + (dy - offset * dy)\n",
    "    \n",
    "    fig.add_trace(go.Scatter(\n",
    "        x=[x0, x_edge, x1],\n",
    "        y=[y0, y_edge, y1],\n",
    "        mode='lines',\n",
    "        line=dict(color='rgb(210,210,210)', width=1),\n",
    "        hoverinfo='none',\n",
    "        showlegend=False  \n",
    "    ))\n",
    "\n",
    "# Add nodes with numbers\n",
    "for node in G.nodes():\n",
    "    x, y = pos[node]\n",
    "    value = node + ': '+ dicionario_modulos[int(node)]\n",
    "    print(value) \n",
    "    fig.add_trace(go.Scatter(\n",
    "        x=[x],\n",
    "        y=[y],\n",
    "        mode='markers+text',  \n",
    "        name=value,\n",
    "        marker=dict(\n",
    "            symbol='circle-dot',\n",
    "            size=25,\n",
    "            color='#6175c1',\n",
    "            line=dict(color='rgb(50,50,50)', width=1)\n",
    "        ),\n",
    "        text=[node],  \n",
    "        hoverinfo='name',\n",
    "        textposition='middle center', \n",
    "        opacity=0.8,\n",
    "        textfont=dict(color='white', size=12)  \n",
    "    ))\n",
    "\n",
    "axis = dict(showline=False, \n",
    "            zeroline=False,\n",
    "            showgrid=False,\n",
    "            showticklabels=False,\n",
    "            )\n",
    "\n",
    "fig.update_layout(title='Sequência de Módulos Acessados por Alunos Reprovados',\n",
    "                font_size=12,\n",
    "                showlegend=True,\n",
    "                xaxis=axis,\n",
    "                yaxis=axis,\n",
    "                margin=dict(l=40, r=40, b=85, t=100),\n",
    "                hovermode='closest',\n",
    "                plot_bgcolor='rgb(248,248,248)',\n",
    "                hoverlabel=dict(\n",
    "                bgcolor=\"white\",\n",
    "                font_size=16,\n",
    "                font_family=\"Arial\",\n",
    "                namelength=-1)\n",
    "                  )\n",
    "\n",
    "\n",
    "fig.update_traces(textposition='middle center')\n",
    "\n",
    "fig.show()\n"
   ]
  }
 ],
 "metadata": {
  "kernelspec": {
   "display_name": "env",
   "language": "python",
   "name": "python3"
  },
  "language_info": {
   "codemirror_mode": {
    "name": "ipython",
    "version": 3
   },
   "file_extension": ".py",
   "mimetype": "text/x-python",
   "name": "python",
   "nbconvert_exporter": "python",
   "pygments_lexer": "ipython3",
   "version": "3.10.14"
  },
  "orig_nbformat": 4
 },
 "nbformat": 4,
 "nbformat_minor": 2
}
